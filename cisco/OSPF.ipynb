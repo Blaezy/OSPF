{
 "cells": [
  {
   "cell_type": "code",
   "execution_count": null,
   "id": "ab9ba29b-556f-4750-b662-64f3187df9c6",
   "metadata": {},
   "outputs": [],
   "source": [
    "!pip install pandas"
   ]
  },
  {
   "cell_type": "code",
   "execution_count": 14,
   "id": "7610cb66-6cee-4ce4-ab67-c42768d6baa6",
   "metadata": {},
   "outputs": [
    {
     "name": "stdout",
     "output_type": "stream",
     "text": [
      "Collecting matplotlib\n",
      "  Downloading matplotlib-3.4.2-cp39-cp39-win_amd64.whl (7.1 MB)\n",
      "Requirement already satisfied: pyparsing>=2.2.1 in c:\\users\\iamre\\anaconda3\\envs\\cisco\\lib\\site-packages (from matplotlib) (2.4.7)\n",
      "Collecting kiwisolver>=1.0.1\n",
      "  Downloading kiwisolver-1.3.1-cp39-cp39-win_amd64.whl (51 kB)\n",
      "Collecting cycler>=0.10\n",
      "  Downloading cycler-0.10.0-py2.py3-none-any.whl (6.5 kB)\n",
      "Requirement already satisfied: numpy>=1.16 in c:\\users\\iamre\\anaconda3\\envs\\cisco\\lib\\site-packages (from matplotlib) (1.20.3)\n",
      "Requirement already satisfied: python-dateutil>=2.7 in c:\\users\\iamre\\anaconda3\\envs\\cisco\\lib\\site-packages (from matplotlib) (2.8.1)\n",
      "Collecting pillow>=6.2.0\n",
      "  Downloading Pillow-8.2.0-cp39-cp39-win_amd64.whl (2.2 MB)\n",
      "Requirement already satisfied: six in c:\\users\\iamre\\anaconda3\\envs\\cisco\\lib\\site-packages (from cycler>=0.10->matplotlib) (1.15.0)\n",
      "Installing collected packages: pillow, kiwisolver, cycler, matplotlib\n",
      "Successfully installed cycler-0.10.0 kiwisolver-1.3.1 matplotlib-3.4.2 pillow-8.2.0\n"
     ]
    }
   ],
   "source": [
    "!pip install matplotlib"
   ]
  },
  {
   "cell_type": "code",
   "execution_count": 1,
   "id": "b6497a5c-c130-4847-be42-6122c7f53059",
   "metadata": {},
   "outputs": [],
   "source": [
    "import matplotlib.pyplot as plt\n"
   ]
  },
  {
   "cell_type": "code",
   "execution_count": 2,
   "id": "bcb501d4-091c-40bc-8908-702acf8bdb52",
   "metadata": {},
   "outputs": [],
   "source": [
    "import pandas as pd"
   ]
  },
  {
   "cell_type": "markdown",
   "id": "443aa0ac",
   "metadata": {},
   "source": [
    "<h1>Data visualization For virtual Personal Area network<h1>  "
   ]
  },
  {
   "cell_type": "code",
   "execution_count": 20,
   "id": "9f7862a2-a4e4-4744-86bc-6fee3c38814a",
   "metadata": {
    "scrolled": true
   },
   "outputs": [
    {
     "name": "stdout",
     "output_type": "stream",
     "text": [
      "Total No oF Hello packets are 24 \n",
      "Total No oF LS Update packets are 7 \n",
      "Total No oF LS Update packets are 4 \n"
     ]
    }
   ],
   "source": [
    "pkt=pd.read_csv('./cap1csv.csv')\n",
    "ospf=pkt[pkt['Protocol']=='OSPF']\n",
    "x=ospf['Time']\n",
    "y=ospf['Length']\n",
    "Hellopktcount=(ospf[\"Info\"]==\"Hello Packet\").sum()\n",
    "LSUpdatepktcount=(ospf[\"Info\"]==\"LS Update\").sum()\n",
    "LSAckpktcount=(ospf[\"Info\"]==\"LS Acknowledge\").sum()\n",
    "print(f\"Total No oF Hello packets are {Hellopktcount} \")\n",
    "print(f\"Total No oF LS Update packets are {LSUpdatepktcount} \")\n",
    "print(f\"Total No oF LS Update packets are {LSAckpktcount} \")\n",
    "\n",
    "#plt.plot(ospf['Time'], ospf['Length'], color ='blue',)\n",
    "#plt.xlabel(\"Time\")\n",
    "#plt.ylabel(\"Total Length\")\n",
    "#plt.title(\"Packets Received with respect to time\")\n",
    "#plt.tight_layout()\n",
    "#plt.fill_between(x,y,alpha=0.30 )\n",
    "#plt.show()\n",
    "\n"
   ]
  },
  {
   "cell_type": "code",
   "execution_count": 21,
   "id": "b0255313",
   "metadata": {},
   "outputs": [
    {
     "data": {
      "image/png": "[encoded data removed]",
      "text/plain": [
       "<Figure size 432x288 with 1 Axes>"
      ]
     },
     "metadata": {
      "needs_background": "light"
     },
     "output_type": "display_data"
    }
   ],
   "source": [
    "plt.plot(ospf['Time'], ospf['Length'], color ='blue',)\n",
    "plt.xlabel(\"Time\")\n",
    "plt.ylabel(\"Total Length\")\n",
    "plt.title(\"Packets Received with respect to time\")\n",
    "plt.tight_layout()\n",
    "plt.fill_between(x,y,alpha=0.30 )\n",
    "plt.show()"
   ]
  },
  {
   "cell_type": "code",
   "execution_count": 26,
   "id": "055ad5fa",
   "metadata": {},
   "outputs": [
    {
     "name": "stdout",
     "output_type": "stream",
     "text": [
      "Total No oF Hello packets are 53 \n",
      "Total No oF LS Update packets are 8 \n",
      "Total No oF LS Acknowledge packets are 4 \n",
      "Total No oF Database Description packets are 14\n"
     ]
    }
   ],
   "source": [
    "pkt=pd.read_csv('./cap2.csv')\n",
    "ospf=pkt[pkt['Protocol']=='OSPF']\n",
    "x=ospf['Time']\n",
    "y=ospf['Length']\n",
    "Hellopktcount=(ospf[\"Info\"]==\"Hello Packet\").sum()\n",
    "LSUpdatepktcount=(ospf[\"Info\"]==\"LS Update\").sum()\n",
    "LSAckpktcount=(ospf[\"Info\"]==\"LS Acknowledge\").sum()\n",
    "DBDpktcount=(ospf[\"Info\"]==\"DB Description\").sum()\n",
    "\n",
    "print(f\"Total No oF Hello packets are {Hellopktcount} \")\n",
    "print(f\"Total No oF LS Update packets are {LSUpdatepktcount} \")\n",
    "print(f\"Total No oF LS Acknowledge packets are {LSAckpktcount} \")\n",
    "print(f\"Total No oF Database Description packets are {DBDpktcount}\")\n",
    "\n"
   ]
  },
  {
   "cell_type": "code",
   "execution_count": 28,
   "id": "c2349471",
   "metadata": {},
   "outputs": [
    {
     "data": {
      "image/png": "[encoded data removed]",
      "text/plain": [
       "<Figure size 432x288 with 1 Axes>"
      ]
     },
     "metadata": {
      "needs_background": "light"
     },
     "output_type": "display_data"
    }
   ],
   "source": [
    "plt.plot(ospf['Time'], ospf['Length'], color ='blue',)\n",
    "plt.xlabel(\"Time\")\n",
    "plt.ylabel(\"Total Length\")\n",
    "plt.title(\"Packets Received with respect to time\")\n",
    "plt.tight_layout()\n",
    "plt.fill_between(x,y,alpha=0.30 )\n",
    "plt.show()"
   ]
  },
  {
   "cell_type": "code",
   "execution_count": 32,
   "id": "199558d0-63a8-4ada-a0cc-1b5bc3ad8557",
   "metadata": {},
   "outputs": [
    {
     "name": "stdout",
     "output_type": "stream",
     "text": [
      "Total No oF Hello packets are 12 \n",
      "Total No oF LS Update packets are 7 \n",
      "Total No oF LS Acknowledge packets are 4 \n",
      "Total No oF Database Description packets are 6\n"
     ]
    }
   ],
   "source": [
    "pkt=pd.read_csv('./OSPF_LSA.csv')\n",
    "ospf=pkt[pkt['Protocol']=='OSPF']\n",
    "x=ospf['Time']\n",
    "y=ospf['Length']\n",
    "Hellopktcount=(ospf[\"Info\"]==\"Hello Packet\").sum()\n",
    "LSUpdatepktcount=(ospf[\"Info\"]==\"LS Update\").sum()\n",
    "LSAckpktcount=(ospf[\"Info\"]==\"LS Acknowledge\").sum()\n",
    "DBDpktcount=(ospf[\"Info\"]==\"DB Description\").sum()\n",
    "print(f\"Total No oF Hello packets are {Hellopktcount} \")\n",
    "print(f\"Total No oF LS Update packets are {LSUpdatepktcount} \")\n",
    "print(f\"Total No oF LS Acknowledge packets are {LSAckpktcount} \")\n",
    "print(f\"Total No oF Database Description packets are {DBDpktcount}\")"
   ]
  },
  {
   "cell_type": "code",
   "execution_count": 33,
   "id": "c7218732",
   "metadata": {},
   "outputs": [
    {
     "data": {
      "image/png": "[encoded data removed]",
      "text/plain": [
       "<Figure size 432x288 with 1 Axes>"
      ]
     },
     "metadata": {
      "needs_background": "light"
     },
     "output_type": "display_data"
    }
   ],
   "source": [
    "plt.plot(ospf['Time'], ospf['Length'], color ='blue',)\n",
    "plt.xlabel(\"Time\")\n",
    "plt.ylabel(\"Total Length\")\n",
    "plt.title(\"Packets Received with respect to time\")\n",
    "plt.tight_layout()\n",
    "plt.fill_between(x,y,alpha=0.30 )\n",
    "plt.show()"
   ]
  },
  {
   "cell_type": "code",
   "execution_count": 34,
   "id": "b1c90ad1",
   "metadata": {},
   "outputs": [
    {
     "name": "stdout",
     "output_type": "stream",
     "text": [
      "Total No oF Hello packets are 54 \n",
      "Total No oF LS Update packets are 33 \n",
      "Total No oF LS Acknowledge packets are 15 \n",
      "Total No oF Database Description packets are 21\n"
     ]
    }
   ],
   "source": [
    "pkt=pd.read_csv('./OSPF_Multipoint.csv')\n",
    "ospf=pkt[pkt['Protocol']=='OSPF']\n",
    "x=ospf['Time']\n",
    "y=ospf['Length']\n",
    "Hellopktcount=(ospf[\"Info\"]==\"Hello Packet\").sum()\n",
    "LSUpdatepktcount=(ospf[\"Info\"]==\"LS Update\").sum()\n",
    "LSAckpktcount=(ospf[\"Info\"]==\"LS Acknowledge\").sum()\n",
    "DBDpktcount=(ospf[\"Info\"]==\"DB Description\").sum()\n",
    "print(f\"Total No oF Hello packets are {Hellopktcount} \")\n",
    "print(f\"Total No oF LS Update packets are {LSUpdatepktcount} \")\n",
    "print(f\"Total No oF LS Acknowledge packets are {LSAckpktcount} \")\n",
    "print(f\"Total No oF Database Description packets are {DBDpktcount}\")\n"
   ]
  },
  {
   "cell_type": "code",
   "execution_count": 35,
   "id": "5a001c29",
   "metadata": {},
   "outputs": [
    {
     "data": {
      "image/png": "[encoded data removed]",
      "text/plain": [
       "<Figure size 432x288 with 1 Axes>"
      ]
     },
     "metadata": {
      "needs_background": "light"
     },
     "output_type": "display_data"
    }
   ],
   "source": [
    "plt.plot(ospf['Time'], ospf['Length'], color ='blue',)\n",
    "plt.xlabel(\"Time\")\n",
    "plt.ylabel(\"Total Length\")\n",
    "plt.title(\"Packets Received with respect to time\")\n",
    "plt.tight_layout()\n",
    "plt.fill_between(x,y,alpha=0.30 )\n",
    "plt.show()"
   ]
  },
  {
   "cell_type": "code",
   "execution_count": 36,
   "id": "9f7ba429",
   "metadata": {},
   "outputs": [
    {
     "name": "stdout",
     "output_type": "stream",
     "text": [
      "Total No oF Hello packets are 48 \n",
      "Total No oF LS Update packets are 5 \n",
      "Total No oF LS Acknowledge packets are 4 \n",
      "Total No oF Database Description packets are 5\n"
     ]
    }
   ],
   "source": [
    "pkt=pd.read_csv('./ospfovergretunnel.csv')\n",
    "ospf=pkt[pkt['Protocol']=='OSPF']\n",
    "x=ospf['Time']\n",
    "y=ospf['Length']\n",
    "Hellopktcount=(ospf[\"Info\"]==\"Hello Packet\").sum()\n",
    "LSUpdatepktcount=(ospf[\"Info\"]==\"LS Update\").sum()\n",
    "LSAckpktcount=(ospf[\"Info\"]==\"LS Acknowledge\").sum()\n",
    "DBDpktcount=(ospf[\"Info\"]==\"DB Description\").sum()\n",
    "print(f\"Total No oF Hello packets are {Hellopktcount} \")\n",
    "print(f\"Total No oF LS Update packets are {LSUpdatepktcount} \")\n",
    "print(f\"Total No oF LS Acknowledge packets are {LSAckpktcount} \")\n",
    "print(f\"Total No oF Database Description packets are {DBDpktcount}\")\n",
    "\n"
   ]
  },
  {
   "cell_type": "code",
   "execution_count": 37,
   "id": "8316221d",
   "metadata": {},
   "outputs": [
    {
     "data": {
      "image/png": "[encoded data removed]",
      "text/plain": [
       "<Figure size 432x288 with 1 Axes>"
      ]
     },
     "metadata": {
      "needs_background": "light"
     },
     "output_type": "display_data"
    }
   ],
   "source": [
    "plt.plot(ospf['Time'], ospf['Length'], color ='blue',)\n",
    "plt.xlabel(\"Time\")\n",
    "plt.ylabel(\"Total Length\")\n",
    "plt.title(\"Packets Received with respect to time\")\n",
    "plt.tight_layout()\n",
    "plt.fill_between(x,y,alpha=0.30 )\n",
    "plt.show()"
   ]
  },
  {
   "cell_type": "code",
   "execution_count": null,
   "id": "d5a637a4",
   "metadata": {},
   "outputs": [],
   "source": []
  }
 ],
 "metadata": {
  "kernelspec": {
   "display_name": "Python 3",
   "language": "python",
   "name": "python3"
  },
  "language_info": {
   "codemirror_mode": {
    "name": "ipython",
    "version": 3
   },
   "file_extension": ".py",
   "mimetype": "text/x-python",
   "name": "python",
   "nbconvert_exporter": "python",
   "pygments_lexer": "ipython3",
   "version": "3.8.8"
  }
 },
 "nbformat": 4,
 "nbformat_minor": 5
}
